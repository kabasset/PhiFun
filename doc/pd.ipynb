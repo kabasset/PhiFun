{
 "cells": [
  {
   "cell_type": "markdown",
   "metadata": {},
   "source": [
    "# Notes on Phase Diversity"
   ]
  },
  {
   "cell_type": "markdown",
   "metadata": {},
   "source": [
    "## Instrument model\n",
    "\n",
    "The monochromatic optical point spread function (PSF) at wavelengh $\\lambda$, denoted $h^\\text{opt}_\\lambda$,\n",
    "is computed from the inverse Fourier transform of the complex pupil function (CPF).\n",
    "The CPF is obtained from the binary pupil mask, $P$, and the wave front error (WFE), $\\Phi$, which is itself modeled as a series of Zernike polynomials.\n",
    "\n",
    "$$\\begin{align}\n",
    "h^\\text{opt}_\\lambda(x, y) &= |\\mathcal{F}^{-1}[P \\, \\exp(-j2\\pi/\\lambda\\cdot\\Phi)](x, y)|^2 \\\\\n",
    "\\Phi(u, v) &= \\sum_k \\alpha_k Z_k(u, v)\n",
    "\\end{align}$$\n",
    "\n",
    "where $(x, y)$ denote image plane coordinates, while $(u, v)$ denote puil plane coordinates.\n",
    "The $\\alpha_k$'s are the Zernike coefficients and $Z$ is the Zernike basis.\n",
    "Note that $\\Phi$ is wavelength-independent.\n",
    "\n",
    "The monochromatic system PSF $h_\\lambda$ is obtained by convolving the monochromatic optical PSF with other (achromatic) PSFs,\n",
    "namely the detector PSF, $h^\\text{det}$ and the attitude and orbit (AO) PSF (which arises from the motion of the satellite), $h^\\text{ao}$:\n",
    "\n",
    "$$\\begin{align}\n",
    "h_\\lambda(x, y) &= (h^\\text{opt}_\\lambda * h^\\text{det}_\\lambda * h^\\text{ao}_\\lambda)(x, y)\n",
    "\\end{align}$$\n",
    "\n",
    "They are both modeled as Gaussian PSFs of respective standard deviations $\\sigma_\\text{det}$ and $\\sigma_\\text{ao}$.\n",
    "\n",
    "The so-called broadband PSF $h_S$ associated to a point source of spectrum $S$ is:\n",
    "\n",
    "$$\\begin{align}\n",
    "h_S(x, y) &= \\int_\\lambda h_\\lambda(x, y) S(\\lambda) \\, \\text{d} \\lambda\n",
    "\\end{align}$$\n",
    "\n",
    "It corresponds to the image of a star of spectrum $S$ located at position $(0, 0)$."
   ]
  },
  {
   "cell_type": "markdown",
   "metadata": {},
   "source": [
    "## Numerical computation\n",
    "\n",
    "### Monochromatic optical PSF\n",
    "\n",
    "The pupil mask $P$ is a square image essentially made of zeros and ones, except at edges, where it is smoothed for anti-aliasing purpose.\n",
    "For Euclid, the mask is of side 1024, and the pupil of side 512.\n",
    "\n",
    "The Zernike basis is precomputed up to the 8-th order, thus resulting in a $512 \\times 512$ map of vectors of $45$ values,\n",
    "stored as a $45 \\times 1024 \\times 1024$ cube in order to ensure data locality in memory throughout expensive computations.\n",
    "\n",
    "The complex exponential is effectively computed only where $P$ is non null.\n",
    "\n",
    "At wavelength $\\lambda \\, \\text{nm}$, Each PSF pixel spans over $\\lambda / 1024 \\, \\text{nm}$.\n",
    "Euclid wavelengths span from 500 to 900 nm, and therefore a pixel measures roughly 0.5 to 0.9 nm.\n",
    "\n",
    "## Monochromatic system TF\n",
    "\n",
    "At system level, instead of working with PSFs, transfer functions (TFs) are used, which allows performing convolutions faster and improves the quality of the spectral integration.\n",
    "They are Fourier transforms of the PSFs.\n",
    "Although $\\sigma_\\text{det}$ and $\\sigma_\\text{ao}$ are wavelength-independent, the PSF coordinate system is, which means that $h^\\text{det}(x, y)$ and $h^\\text{ao}(x, y)$ depend on $\\lambda$ via $(x, y)$\n",
    "\n",
    "For each $\\lambda$ and each $(x, y)$, the product of the detector and AO TFs, $H^\\text{det}(x, y) \\times H^\\text{ao}_\\lambda(x, y)$, is precomputed."
   ]
  }
 ],
 "metadata": {
  "language_info": {
   "name": "python"
  },
  "orig_nbformat": 4
 },
 "nbformat": 4,
 "nbformat_minor": 2
}
