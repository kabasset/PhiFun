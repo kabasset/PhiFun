{
 "cells": [
  {
   "cell_type": "markdown",
   "metadata": {},
   "source": [
    "# Notes on Phase Diversity"
   ]
  },
  {
   "cell_type": "markdown",
   "metadata": {},
   "source": [
    "# Instrument model\n",
    "\n",
    "The image intensity $i$ of an object of intensity $o$ is obtained by convolution with the point spread function (PSF) $g$:\n",
    "\n",
    "$$\\begin{align}\n",
    "i(x, y) &= g(x, y, \\lambda) * o(x, y, \\lambda) \\,.\n",
    "\\end{align}$$\n",
    "\n",
    "In the case of a point source at position $(x_0, y_0)$ with spectrum $S$ (e.g. a star):\n",
    "\n",
    "$$\\begin{align}\n",
    "o(x, y) &= S(\\lambda) \\, \\delta_{x_0, y_0}(x, y) \\,,\n",
    "\\end{align}$$\n",
    "\n",
    "the system can be modeled with a so-called broadband PSF $h$, which results from the integration of monochromatic PSFs $h_\\lambda$'s weighted by the object spectrum:\n",
    "\n",
    "$$\\begin{align}\n",
    "i(x, y) &= h(x, y) * \\delta_{x_0, y_0}(x, y) \\\\\n",
    "\\text{with } h(x, y) &= \\int_\\lambda S(\\lambda) \\, h_\\lambda(x, y) \\, \\text{d}\\lambda \\,.\n",
    "\\end{align}$$\n",
    "\n",
    "The monochromatic PSF is made from several monochromatic components -- optics, detector, attitude and orbit -- modeled as PSFs.\n",
    "The monochromatic PSF is the convolution of those.\n",
    "\n",
    "The monochromatic optical PSF at wavelengh $\\lambda$, denoted $h^\\text{opt}_\\lambda$,\n",
    "is computed from the inverse Fourier transform of the complex pupil function (CPF).\n",
    "The CPF is obtained from the binary pupil mask, $P$, and the wave front error (WFE), $\\Phi$,\n",
    "which is itself modeled as a series of Zernike polynomials:\n",
    "\n",
    "$$\\begin{align}\n",
    "h^\\text{opt}_\\lambda(x, y) &= |\\mathcal{F}^{-1}[P \\, \\exp(-j2\\pi/\\lambda\\cdot\\Phi)](x, y)|^2 \\\\\n",
    "\\text{with } \\Phi(u, v) &= \\sum_k \\alpha_k Z_k(u, v) \\,,\n",
    "\\end{align}$$\n",
    "\n",
    "where $(x, y)$ denote image plane coordinates, while $(u, v)$ denote puil plane coordinates.\n",
    "The $\\alpha_k$'s are the Zernike coefficients and $Z$ is the Zernike basis.\n",
    "Note that $\\Phi$ is wavelength-independent.\n",
    "\n",
    "The monochromatic system PSF $h_\\lambda$ is obtained by convolving the monochromatic optical PSF with other (achromatic) PSFs,\n",
    "namely the detector PSF, $h^\\text{det}$, and the attitude and orbit (AO) PSF (which arises from the motion of the satellite), $h^\\text{ao}$:\n",
    "\n",
    "$$\\begin{align}\n",
    "h_\\lambda(x, y) &= (h^\\text{opt}_\\lambda * h^\\text{det}_\\lambda * h^\\text{ao}_\\lambda)(x, y)\n",
    "\\end{align}$$\n",
    "\n",
    "They are both modeled as Gaussian PSFs of respective standard deviations $\\sigma_\\text{det}$ and $\\sigma_\\text{ao}$.\n",
    "\n",
    "The so-called broadband PSF $h_S$ associated to a point source of spectrum $S$ is:\n",
    "\n",
    "$$\\begin{align}\n",
    "h_S(x, y) &= \\int_\\lambda h_\\lambda(x, y) S(\\lambda) \\, \\text{d} \\lambda\n",
    "\\end{align}$$\n",
    "\n",
    "It corresponds to the image of a star of spectrum $S$ located at position $(0, 0)$."
   ]
  },
  {
   "cell_type": "markdown",
   "metadata": {},
   "source": [
    "# Phase diversity\n",
    "\n",
    "TODO"
   ]
  },
  {
   "cell_type": "markdown",
   "metadata": {},
   "source": [
    "# Zernike coefficients estimation\n",
    "\n",
    "TODO"
   ]
  },
  {
   "cell_type": "markdown",
   "metadata": {},
   "source": [
    "# Numerical computation\n",
    "\n",
    "## Monochromatic optical PSF\n",
    "\n",
    "The pupil mask $P$ is a square image essentially made of zeros and ones, except at edges, where it is smoothed for anti-aliasing purpose.\n",
    "For Euclid, the mask is of side $1024$, and the pupil of side $512$.\n",
    "\n",
    "The Zernike basis is precomputed up to the 8-th order, thus resulting in a $512 \\times 512$ map of vectors of $45$ values,\n",
    "stored padded as a $45 \\times 1024 \\times 1024$ cube in order to ensure data locality in memory throughout expensive computations.\n",
    "\n",
    "The complex exponential is effectively computed only where $P$ is non null.\n",
    "This should make the the padding negligible in terms of computation time.\n",
    "\n",
    "At wavelength $\\lambda \\, \\text{nm}$, Each PSF pixel spans over $\\lambda / 1024 \\, \\text{nm}$.\n",
    "Euclid wavelengths span from $500$ to $900\\,\\text{nm}$, and therefore a pixel measures roughly $0.5$ to $0.9\\,\\text{nm}$.\n",
    "\n",
    "Given that wavelengths are processed in sequence, the same memory locations are reused."
   ]
  },
  {
   "cell_type": "markdown",
   "metadata": {},
   "source": [
    "## Monochromatic system TF\n",
    "\n",
    "At system level, instead of working with PSFs, transfer functions (TFs) are used, which allows performing convolutions faster and improves the quality of the spectral integration.\n",
    "They are Fourier transforms of the PSFs.\n",
    "Although $\\sigma_\\text{det}$ and $\\sigma_\\text{ao}$ are wavelength-independent, the PSF coordinate system is, which means that $h^\\text{det}(x, y)$ and $h^\\text{ao}(x, y)$ depend on $\\lambda$ via $(x, y)$\n",
    "\n",
    "For each $\\lambda$ and each $(x, y)$, the product of the detector and AO TFs, $H^\\text{det}(x, y) \\times H^\\text{ao}(x, y)$, is precomputed.\n",
    "\n",
    "Similarly to PSFs, each monochromatic TF reuses the memory locations of the previous $\\lambda$."
   ]
  },
  {
   "cell_type": "markdown",
   "metadata": {},
   "source": [
    "## Broadband PSF\n",
    "\n",
    "The broadband PSF is computed as the inverse Fourier transform of the broadband TF,\n",
    "that is, the integration over $\\lambda$ is performed on the TFs,\n",
    "and the result is later transformed back into a PSF.\n",
    "\n",
    "To this end, monochromatic TFs are first warped to a common grid.\n",
    "The size of the grid is determined by the desired size of the PSF in the image domain, multiplied by some oversampling factor.\n",
    "As of today, the size is set to $100\\,\\text{px}$ and the factor to $3$, which gives a $300 \\times 300$ PSF stamp,\n",
    "as well as a $40 \\times 300 \\times 300$ TF cube (where $40$ is the number of wavelengths).\n",
    "\n",
    "Once warped, the monochromatic system TFs are interpolated along the $\\lambda$ axis for a more precise integration.\n",
    "The TF cube is resampled at $2\\,\\text{nm}$, would output a $200 \\times 300 \\times 300$ cube.\n",
    "Yet, since the only operation to be performed on this TF cube would be a numerical integration along $\\lambda$,\n",
    "the cube is not instantiated.\n",
    "Instead, spline coefficients are estimated, and the integral of the spline is computed directly,\n",
    "without computing the interpolated values (more on this to follow).\n",
    "This way, the transform from monochromatic system TFs to broadband TF is direct."
   ]
  },
  {
   "cell_type": "markdown",
   "metadata": {},
   "source": [
    "## On the interpolation and integration along wavelengths\n",
    "\n",
    "TODO"
   ]
  },
  {
   "cell_type": "markdown",
   "metadata": {},
   "source": [
    "## Minimization\n",
    "\n",
    "TODO"
   ]
  }
 ],
 "metadata": {
  "language_info": {
   "name": "python"
  },
  "orig_nbformat": 4
 },
 "nbformat": 4,
 "nbformat_minor": 2
}
