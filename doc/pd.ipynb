{
 "cells": [
  {
   "cell_type": "markdown",
   "metadata": {},
   "source": [
    "# Notes on Phase Diversity"
   ]
  },
  {
   "cell_type": "markdown",
   "metadata": {},
   "source": [
    "## Instrument model\n",
    "\n",
    "The monochromatic optical point spread function (PSF) at wavelengh $\\lambda$, denoted $h_\\lambda$, is computed from the inverse Fourier transform of the complex pupil function (CPF).\n",
    "The CPF is obtained from the binary pupil mask, $P$, and the wave front error (WFE), $\\Phi$, which is itself modeled as a series of Zernike polynomials.\n",
    "\n",
    "$$\\begin{align}\n",
    "h_\\lambda(x, y) &= |\\mathcal{F}^{-1}[P \\, \\exp(-j2\\pi/\\lambda\\cdot\\Phi)](x, y)|^2 \\\\\n",
    "\\Phi(u, v) &= \\sum_k \\alpha_k Z_k(u, v)\n",
    "\\end{align}$$\n",
    "\n",
    "where $(x, y)$ denote image plane coordinates, while $(u, v)$ denote puil plane coordinates.\n",
    "The $\\alpha_k$'s are the Zernike coefficients and $Z$ is the Zernike basis.\n",
    "Note that $\\Phi$ is wavelength-independent.\n",
    "\n",
    "The monochromatic system PSF $g_\\lambda$ is obtained by convolving the monochromatic optical PSF with other (achromatic) PSFs, namely the detector PSF, $h_\\text{det}$ and the attitude and orbit PSF (which arises from the motion of the satellite), $h_\\text{ao}$:\n",
    "\n",
    "$$\\begin{align}\n",
    "g_\\lambda(x, y) &= (h_\\lambda * h_\\text{det} * h_\\text{ao})(x, y)\n",
    "\\end{align}$$\n",
    "\n",
    "The so-called broadband PSF $g_S$ associated to a point source of spectrum $S(\\lambda)$ is:\n",
    "\n",
    "$$\\begin{align}\n",
    "g_S(x, y) &= \\int_\\lambda g_\\lambda(x, y) S(\\lambda) \\, \\text{d} \\lambda\n",
    "\\end{align}$$"
   ]
  },
  {
   "cell_type": "markdown",
   "metadata": {},
   "source": [
    "## Numerical computation\n",
    "\n",
    "The pupil mask $P$ is a square image essentially made of zeros and ones, except at edges, where it is smoothed for anti-aliasing purpose.\n",
    "For Euclid, the mask is of side 1024, and the pupil of side 512.\n",
    "\n",
    "The Zernike basis is precomputed up to the 8-th order, thus resulting in a $512 \\times 512$ map of vectors of $45$ values,\n",
    "stored as a $45 \\times 1024 \\times 1024$ cube in order to ensure data locality in memory throughout expensive computations.\n",
    "\n",
    "The complex exponential is effectively computed only where $P$ is non null.\n",
    "\n",
    "At wavelength $\\lambda \\, \\text{nm}$, Each PSF pixel spans over $\\lambda / 1024 \\, \\text{nm}$.\n",
    "Euclid wavelengths span from 500 to 900 nm, and therefore a pixel measures roughly 0.5 to 0.9 nm."
   ]
  }
 ],
 "metadata": {
  "language_info": {
   "name": "python"
  },
  "orig_nbformat": 4
 },
 "nbformat": 4,
 "nbformat_minor": 2
}
